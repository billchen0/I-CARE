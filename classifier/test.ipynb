{
 "cells": [
  {
   "cell_type": "code",
   "execution_count": 1,
   "metadata": {},
   "outputs": [],
   "source": [
    "%load_ext autoreload\n",
    "%autoreload 2\n",
    "from pathlib import Path\n",
    "import numpy as np\n",
    "import torch.nn as nn\n",
    "import torch\n",
    "from dataset import ManualFeatureDataModule\n",
    "from transformer import TransformerClassifierModule"
   ]
  },
  {
   "cell_type": "code",
   "execution_count": 2,
   "metadata": {},
   "outputs": [
    {
     "data": {
      "text/plain": [
       "torch.Size([32, 296, 144])"
      ]
     },
     "execution_count": 2,
     "metadata": {},
     "output_type": "execute_result"
    }
   ],
   "source": [
    "data_dir = Path(\"/media/hdd1/i-care/6h-combined\")\n",
    "label_dir = Path(\"/home/bc299/icare/artifacts/patient_data.csv\")\n",
    "dm = ManualFeatureDataModule(root_dir=data_dir, labels_csv=label_dir)\n",
    "dm.setup()\n",
    "\n",
    "x, y = next(iter(dm.train_dataloader()))\n",
    "x.size()"
   ]
  },
  {
   "cell_type": "code",
   "execution_count": 5,
   "metadata": {},
   "outputs": [
    {
     "data": {
      "text/plain": [
       "tensor([[-0.1097, -2.2645],\n",
       "        [-0.1084, -2.2753],\n",
       "        [-0.3543, -1.2095],\n",
       "        [-0.1733, -1.8379],\n",
       "        [-0.1645, -1.8859],\n",
       "        [-0.1355, -2.0660],\n",
       "        [-0.1811, -1.7978],\n",
       "        [-0.2624, -1.4662],\n",
       "        [-0.1853, -1.7768],\n",
       "        [-0.2557, -1.4888],\n",
       "        [-0.1952, -1.7298],\n",
       "        [-0.3167, -1.3039],\n",
       "        [-0.1828, -1.7894],\n",
       "        [-0.2497, -1.5098],\n",
       "        [-0.2744, -1.4273],\n",
       "        [-0.3110, -1.3195],\n",
       "        [-0.2081, -1.6722],\n",
       "        [-0.1770, -1.8187],\n",
       "        [-0.3365, -1.2527],\n",
       "        [-0.2682, -1.4473],\n",
       "        [-0.1194, -2.1845],\n",
       "        [-0.3482, -1.2239],\n",
       "        [-0.1663, -1.8760],\n",
       "        [-0.2315, -1.5766],\n",
       "        [-0.4737, -0.9746],\n",
       "        [-0.2434, -1.5324],\n",
       "        [-0.1459, -1.9970],\n",
       "        [-0.1685, -1.8640],\n",
       "        [-0.1827, -1.7898],\n",
       "        [-0.2877, -1.3862],\n",
       "        [-0.2199, -1.6226],\n",
       "        [-0.1793, -1.8069]], grad_fn=<LogSoftmaxBackward0>)"
      ]
     },
     "execution_count": 5,
     "metadata": {},
     "output_type": "execute_result"
    }
   ],
   "source": [
    "model = TransformerClassifierModule(input_size=296,\n",
    "                                    d_model=128,\n",
    "                                    nhead=8,\n",
    "                                    num_layers=2,\n",
    "                                    dropout=0.2,\n",
    "                                    learning_rate=1e-4)\n",
    "model(x)"
   ]
  },
  {
   "cell_type": "code",
   "execution_count": 72,
   "metadata": {},
   "outputs": [
    {
     "data": {
      "text/plain": [
       "torch.Size([32, 2])"
      ]
     },
     "execution_count": 72,
     "metadata": {},
     "output_type": "execute_result"
    }
   ],
   "source": [
    "d_model = 128\n",
    "n_head = 8\n",
    "num_layers = 2\n",
    "dropout = 0.3\n",
    "\n",
    "embedding = nn.Sequential(\n",
    "    nn.Linear(14, d_model),\n",
    "    nn.ReLU(),\n",
    ")\n",
    "conv = nn.Conv1d(d_model, d_model, kernel_size=5, padding=2)\n",
    "pe = nn.Parameter(torch.randn(1, d_model))\n",
    "transformer = nn.Transformer(d_model, n_head, num_layers, dropout=dropout)\n",
    "fc = nn.Linear(d_model, 2)\n",
    "\n",
    "output = conv(embedding(x).permute(0, 2, 1)).permute(0, 2, 1)\n",
    "output = output + pe\n",
    "output = output.permute(1, 0, 2)\n",
    "out = transformer.encoder(output)\n",
    "out = out[-1, :, :]\n",
    "out = fc(out)\n",
    "out.size()"
   ]
  },
  {
   "cell_type": "code",
   "execution_count": 19,
   "metadata": {},
   "outputs": [
    {
     "data": {
      "text/plain": [
       "(296, 12)"
      ]
     },
     "execution_count": 19,
     "metadata": {},
     "output_type": "execute_result"
    }
   ],
   "source": [
    "from pathlib import Path\n",
    "path = Path(\"/media/hdd1/i-care/combined-features/0284/0284_007_features.npy\")\n",
    "import numpy as np\n",
    "np.load(path).shape"
   ]
  },
  {
   "cell_type": "code",
   "execution_count": null,
   "metadata": {},
   "outputs": [],
   "source": []
  }
 ],
 "metadata": {
  "kernelspec": {
   "display_name": "icare",
   "language": "python",
   "name": "python3"
  },
  "language_info": {
   "codemirror_mode": {
    "name": "ipython",
    "version": 3
   },
   "file_extension": ".py",
   "mimetype": "text/x-python",
   "name": "python",
   "nbconvert_exporter": "python",
   "pygments_lexer": "ipython3",
   "version": "3.11.4"
  },
  "orig_nbformat": 4
 },
 "nbformat": 4,
 "nbformat_minor": 2
}
