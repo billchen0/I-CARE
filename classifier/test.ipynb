{
 "cells": [
  {
   "cell_type": "code",
   "execution_count": 9,
   "metadata": {},
   "outputs": [
    {
     "name": "stdout",
     "output_type": "stream",
     "text": [
      "The autoreload extension is already loaded. To reload it, use:\n",
      "  %reload_ext autoreload\n"
     ]
    }
   ],
   "source": [
    "%load_ext autoreload\n",
    "%autoreload 2\n",
    "from dataset import ManualFeatureDataModule\n",
    "from pathlib import Path"
   ]
  },
  {
   "cell_type": "code",
   "execution_count": 10,
   "metadata": {},
   "outputs": [],
   "source": [
    "root_dir = Path(\"/media/nvme1/icare-data/6h-combined/\")\n",
    "labels_dir = Path(\"/home/bc299/icare/artifacts/patient_data.csv\")\n",
    "dm = ManualFeatureDataModule(root_dir=root_dir, labels_csv=labels_dir)\n",
    "dm.setup()"
   ]
  },
  {
   "cell_type": "code",
   "execution_count": 18,
   "metadata": {},
   "outputs": [
    {
     "name": "stdout",
     "output_type": "stream",
     "text": [
      "torch.Size([32, 14, 144])\n",
      "torch.Size([32, 14, 144])\n",
      "torch.Size([32, 14, 144])\n",
      "torch.Size([32, 14, 144])\n",
      "torch.Size([32, 14, 144])\n",
      "torch.Size([32, 14, 144])\n",
      "torch.Size([32, 14, 144])\n",
      "torch.Size([32, 14, 144])\n",
      "torch.Size([32, 14, 144])\n",
      "torch.Size([32, 14, 144])\n",
      "torch.Size([32, 14, 144])\n",
      "torch.Size([32, 14, 144])\n",
      "torch.Size([32, 14, 144])\n",
      "torch.Size([32, 14, 144])\n",
      "torch.Size([32, 14, 144])\n",
      "torch.Size([32, 14, 144])\n",
      "torch.Size([32, 14, 144])\n",
      "torch.Size([32, 14, 144])\n",
      "torch.Size([32, 14, 144])\n",
      "torch.Size([32, 14, 144])\n",
      "torch.Size([32, 14, 144])\n",
      "torch.Size([32, 14, 144])\n",
      "torch.Size([32, 14, 144])\n",
      "torch.Size([32, 14, 144])\n",
      "torch.Size([32, 14, 144])\n",
      "torch.Size([32, 14, 144])\n",
      "torch.Size([32, 14, 144])\n",
      "torch.Size([32, 14, 144])\n",
      "torch.Size([32, 14, 144])\n",
      "torch.Size([32, 14, 144])\n",
      "torch.Size([32, 14, 144])\n",
      "torch.Size([32, 14, 144])\n",
      "torch.Size([32, 14, 144])\n",
      "torch.Size([32, 14, 144])\n",
      "torch.Size([32, 14, 144])\n",
      "torch.Size([32, 14, 144])\n",
      "torch.Size([32, 14, 144])\n",
      "torch.Size([32, 14, 144])\n",
      "torch.Size([32, 14, 144])\n",
      "torch.Size([32, 14, 144])\n",
      "torch.Size([32, 14, 144])\n",
      "torch.Size([32, 14, 144])\n",
      "torch.Size([32, 14, 144])\n",
      "torch.Size([32, 14, 144])\n",
      "torch.Size([32, 14, 144])\n",
      "torch.Size([32, 14, 144])\n",
      "torch.Size([32, 14, 144])\n",
      "torch.Size([32, 14, 144])\n",
      "torch.Size([32, 14, 144])\n",
      "torch.Size([32, 14, 144])\n",
      "torch.Size([32, 14, 144])\n",
      "torch.Size([32, 14, 144])\n",
      "torch.Size([32, 14, 144])\n",
      "torch.Size([32, 14, 144])\n",
      "torch.Size([32, 14, 144])\n",
      "torch.Size([32, 14, 144])\n",
      "torch.Size([32, 14, 144])\n",
      "torch.Size([32, 14, 144])\n",
      "torch.Size([32, 14, 144])\n",
      "torch.Size([32, 14, 144])\n",
      "torch.Size([32, 14, 144])\n",
      "torch.Size([32, 14, 144])\n",
      "torch.Size([32, 14, 144])\n",
      "torch.Size([32, 14, 144])\n",
      "torch.Size([32, 14, 144])\n",
      "torch.Size([32, 14, 144])\n",
      "torch.Size([32, 14, 144])\n",
      "torch.Size([32, 14, 144])\n",
      "torch.Size([32, 14, 144])\n",
      "torch.Size([32, 14, 144])\n",
      "torch.Size([32, 14, 144])\n",
      "torch.Size([32, 14, 144])\n",
      "torch.Size([32, 14, 144])\n",
      "torch.Size([32, 14, 144])\n",
      "torch.Size([32, 14, 144])\n",
      "torch.Size([32, 14, 144])\n",
      "torch.Size([32, 14, 144])\n",
      "torch.Size([32, 14, 144])\n",
      "torch.Size([32, 14, 144])\n",
      "torch.Size([32, 14, 144])\n",
      "torch.Size([32, 14, 144])\n",
      "torch.Size([32, 14, 144])\n",
      "torch.Size([16, 14, 144])\n"
     ]
    }
   ],
   "source": [
    "for batch_idx, (x, y) in enumerate(dm.train_dataloader()):\n",
    "    print(x.shape)"
   ]
  },
  {
   "cell_type": "code",
   "execution_count": null,
   "metadata": {},
   "outputs": [],
   "source": []
  }
 ],
 "metadata": {
  "kernelspec": {
   "display_name": "icare",
   "language": "python",
   "name": "python3"
  },
  "language_info": {
   "codemirror_mode": {
    "name": "ipython",
    "version": 3
   },
   "file_extension": ".py",
   "mimetype": "text/x-python",
   "name": "python",
   "nbconvert_exporter": "python",
   "pygments_lexer": "ipython3",
   "version": "3.11.4"
  },
  "orig_nbformat": 4
 },
 "nbformat": 4,
 "nbformat_minor": 2
}
