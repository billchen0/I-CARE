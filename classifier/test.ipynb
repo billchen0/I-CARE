{
 "cells": [
  {
   "cell_type": "code",
   "execution_count": 1,
   "metadata": {},
   "outputs": [],
   "source": [
    "%load_ext autoreload\n",
    "%autoreload 2\n",
    "from pathlib import Path\n",
    "import numpy as np\n",
    "import torch.nn as nn\n",
    "import torch\n",
    "from dataset import ManualFeatureDataModule\n",
    "from transformer import TransformerClassifierModule"
   ]
  },
  {
   "cell_type": "code",
   "execution_count": 3,
   "metadata": {},
   "outputs": [
    {
     "data": {
      "text/plain": [
       "torch.Size([32, 296, 144])"
      ]
     },
     "execution_count": 3,
     "metadata": {},
     "output_type": "execute_result"
    }
   ],
   "source": [
    "data_dir = Path(\"/media/hdd1/i-care/6h-combined\")\n",
    "label_dir = Path(\"/home/bc299/icare/artifacts/patient_data.csv\")\n",
    "dm = ManualFeatureDataModule(root_dir=data_dir, labels_csv=label_dir)\n",
    "dm.setup()\n",
    "\n",
    "x, y = next(iter(dm.train_dataloader()))\n",
    "x.size()"
   ]
  },
  {
   "cell_type": "code",
   "execution_count": 5,
   "metadata": {},
   "outputs": [
    {
     "data": {
      "text/plain": [
       "tensor([[-0.1097, -2.2645],\n",
       "        [-0.1084, -2.2753],\n",
       "        [-0.3543, -1.2095],\n",
       "        [-0.1733, -1.8379],\n",
       "        [-0.1645, -1.8859],\n",
       "        [-0.1355, -2.0660],\n",
       "        [-0.1811, -1.7978],\n",
       "        [-0.2624, -1.4662],\n",
       "        [-0.1853, -1.7768],\n",
       "        [-0.2557, -1.4888],\n",
       "        [-0.1952, -1.7298],\n",
       "        [-0.3167, -1.3039],\n",
       "        [-0.1828, -1.7894],\n",
       "        [-0.2497, -1.5098],\n",
       "        [-0.2744, -1.4273],\n",
       "        [-0.3110, -1.3195],\n",
       "        [-0.2081, -1.6722],\n",
       "        [-0.1770, -1.8187],\n",
       "        [-0.3365, -1.2527],\n",
       "        [-0.2682, -1.4473],\n",
       "        [-0.1194, -2.1845],\n",
       "        [-0.3482, -1.2239],\n",
       "        [-0.1663, -1.8760],\n",
       "        [-0.2315, -1.5766],\n",
       "        [-0.4737, -0.9746],\n",
       "        [-0.2434, -1.5324],\n",
       "        [-0.1459, -1.9970],\n",
       "        [-0.1685, -1.8640],\n",
       "        [-0.1827, -1.7898],\n",
       "        [-0.2877, -1.3862],\n",
       "        [-0.2199, -1.6226],\n",
       "        [-0.1793, -1.8069]], grad_fn=<LogSoftmaxBackward0>)"
      ]
     },
     "execution_count": 5,
     "metadata": {},
     "output_type": "execute_result"
    }
   ],
   "source": [
    "model = TransformerClassifierModule(input_size=296,\n",
    "                                    d_model=128,\n",
    "                                    nhead=8,\n",
    "                                    num_layers=2,\n",
    "                                    dropout=0.2,\n",
    "                                    learning_rate=1e-4)\n",
    "model(x)"
   ]
  },
  {
   "cell_type": "code",
   "execution_count": 72,
   "metadata": {},
   "outputs": [
    {
     "data": {
      "text/plain": [
       "torch.Size([32, 2])"
      ]
     },
     "execution_count": 72,
     "metadata": {},
     "output_type": "execute_result"
    }
   ],
   "source": [
    "d_model = 128\n",
    "n_head = 8\n",
    "num_layers = 2\n",
    "dropout = 0.3\n",
    "\n",
    "embedding = nn.Sequential(\n",
    "    nn.Linear(14, d_model),\n",
    "    nn.ReLU(),\n",
    ")\n",
    "conv = nn.Conv1d(d_model, d_model, kernel_size=5, padding=2)\n",
    "pe = nn.Parameter(torch.randn(1, d_model))\n",
    "transformer = nn.Transformer(d_model, n_head, num_layers, dropout=dropout)\n",
    "fc = nn.Linear(d_model, 2)\n",
    "\n",
    "output = conv(embedding(x).permute(0, 2, 1)).permute(0, 2, 1)\n",
    "output = output + pe\n",
    "output = output.permute(1, 0, 2)\n",
    "out = transformer.encoder(output)\n",
    "out = out[-1, :, :]\n",
    "out = fc(out)\n",
    "out.size()"
   ]
  },
  {
   "cell_type": "code",
   "execution_count": 73,
   "metadata": {},
   "outputs": [
    {
     "data": {
      "text/plain": [
       "tensor([[-0.1880,  0.2474],\n",
       "        [ 0.4479, -0.0553],\n",
       "        [ 0.7414,  0.5551],\n",
       "        [ 0.2159,  0.9847],\n",
       "        [ 0.3612,  0.9007],\n",
       "        [-0.7108, -0.0406],\n",
       "        [ 0.6071, -0.4828],\n",
       "        [ 0.3353,  0.6837],\n",
       "        [-0.1599, -0.3562],\n",
       "        [ 0.9408,  0.7332],\n",
       "        [ 0.2811,  0.0217],\n",
       "        [ 0.3657,  0.4245],\n",
       "        [ 0.0273, -0.1086],\n",
       "        [-0.1108,  0.1441],\n",
       "        [ 0.5720,  0.3567],\n",
       "        [ 0.4527,  0.3909],\n",
       "        [ 0.5528,  0.6263],\n",
       "        [ 0.3453,  0.4314],\n",
       "        [ 0.2753, -0.2350],\n",
       "        [-0.0679,  1.1366],\n",
       "        [ 0.7679,  0.5170],\n",
       "        [ 0.4683,  0.7359],\n",
       "        [ 0.0187, -0.1772],\n",
       "        [ 0.8656,  0.8362],\n",
       "        [ 0.0331,  0.2159],\n",
       "        [ 0.6308,  0.4083],\n",
       "        [ 0.1872,  0.7556],\n",
       "        [ 0.7465,  0.2256],\n",
       "        [ 0.2023,  0.7617],\n",
       "        [ 0.5142,  0.2068],\n",
       "        [ 0.4845,  0.9135],\n",
       "        [ 0.3157,  0.4350]], grad_fn=<AddmmBackward0>)"
      ]
     },
     "execution_count": 73,
     "metadata": {},
     "output_type": "execute_result"
    }
   ],
   "source": [
    "out"
   ]
  },
  {
   "cell_type": "code",
   "execution_count": null,
   "metadata": {},
   "outputs": [],
   "source": []
  }
 ],
 "metadata": {
  "kernelspec": {
   "display_name": "icare",
   "language": "python",
   "name": "python3"
  },
  "language_info": {
   "codemirror_mode": {
    "name": "ipython",
    "version": 3
   },
   "file_extension": ".py",
   "mimetype": "text/x-python",
   "name": "python",
   "nbconvert_exporter": "python",
   "pygments_lexer": "ipython3",
   "version": "3.11.4"
  },
  "orig_nbformat": 4
 },
 "nbformat": 4,
 "nbformat_minor": 2
}
