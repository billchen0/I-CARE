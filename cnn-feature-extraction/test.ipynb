{
 "cells": [
  {
   "cell_type": "code",
   "execution_count": 4,
   "metadata": {},
   "outputs": [],
   "source": [
    "from pathlib import Path\n",
    "from train_cnn import EEGDataModule\n",
    "import matplotlib.pyplot as plt\n",
    "import sys\n",
    "sys.path.append(\"..\")\n",
    "from util import load_split_ids"
   ]
  },
  {
   "cell_type": "code",
   "execution_count": 5,
   "metadata": {},
   "outputs": [],
   "source": [
    "path_to_split = Path(\"/home/bc299/icare/artifacts\")\n",
    "train_ids, val_ids, test_ids = load_split_ids(path_to_split)"
   ]
  },
  {
   "cell_type": "code",
   "execution_count": 8,
   "metadata": {},
   "outputs": [
    {
     "ename": "FileNotFoundError",
     "evalue": "[Errno 2] No such file or directory: '/media/hdd1/i-care/10s/0858'",
     "output_type": "error",
     "traceback": [
      "\u001b[0;31m---------------------------------------------------------------------------\u001b[0m",
      "\u001b[0;31mFileNotFoundError\u001b[0m                         Traceback (most recent call last)",
      "\u001b[1;32m/home/bc299/icare/cnn-feature-extraction/test.ipynb Cell 3\u001b[0m line \u001b[0;36m7\n\u001b[1;32m      <a href='vscode-notebook-cell://ssh-remote%2Bwil.egr.duke.edu/home/bc299/icare/cnn-feature-extraction/test.ipynb#W2sdnNjb2RlLXJlbW90ZQ%3D%3D?line=4'>5</a>\u001b[0m \u001b[39m# Initialize the EEGDataModule\u001b[39;00m\n\u001b[1;32m      <a href='vscode-notebook-cell://ssh-remote%2Bwil.egr.duke.edu/home/bc299/icare/cnn-feature-extraction/test.ipynb#W2sdnNjb2RlLXJlbW90ZQ%3D%3D?line=5'>6</a>\u001b[0m data_module \u001b[39m=\u001b[39m EEGDataModule(train_ids, val_ids, DEST_DIR)\n\u001b[0;32m----> <a href='vscode-notebook-cell://ssh-remote%2Bwil.egr.duke.edu/home/bc299/icare/cnn-feature-extraction/test.ipynb#W2sdnNjb2RlLXJlbW90ZQ%3D%3D?line=6'>7</a>\u001b[0m data_module\u001b[39m.\u001b[39;49msetup()\n\u001b[1;32m      <a href='vscode-notebook-cell://ssh-remote%2Bwil.egr.duke.edu/home/bc299/icare/cnn-feature-extraction/test.ipynb#W2sdnNjb2RlLXJlbW90ZQ%3D%3D?line=8'>9</a>\u001b[0m \u001b[39m# 1. Check the Length of Datasets\u001b[39;00m\n\u001b[1;32m     <a href='vscode-notebook-cell://ssh-remote%2Bwil.egr.duke.edu/home/bc299/icare/cnn-feature-extraction/test.ipynb#W2sdnNjb2RlLXJlbW90ZQ%3D%3D?line=9'>10</a>\u001b[0m \u001b[39mprint\u001b[39m(\u001b[39mf\u001b[39m\u001b[39m\"\u001b[39m\u001b[39mNumber of training segments: \u001b[39m\u001b[39m{\u001b[39;00m\u001b[39mlen\u001b[39m(data_module\u001b[39m.\u001b[39mtrain_dataset)\u001b[39m}\u001b[39;00m\u001b[39m\"\u001b[39m)\n",
      "File \u001b[0;32m~/icare/cnn-feature-extraction/train_cnn.py:41\u001b[0m, in \u001b[0;36mEEGDataModule.setup\u001b[0;34m(self, stage)\u001b[0m\n\u001b[1;32m     40\u001b[0m \u001b[39mdef\u001b[39;00m \u001b[39msetup\u001b[39m(\u001b[39mself\u001b[39m, stage\u001b[39m=\u001b[39m\u001b[39mNone\u001b[39;00m):\n\u001b[0;32m---> 41\u001b[0m     \u001b[39mself\u001b[39m\u001b[39m.\u001b[39mtrain_dataset \u001b[39m=\u001b[39m EEGSegmentDataset(\u001b[39mself\u001b[39;49m\u001b[39m.\u001b[39;49mdata_dir, \u001b[39mself\u001b[39;49m\u001b[39m.\u001b[39;49mtrain_ids)\n\u001b[1;32m     42\u001b[0m     \u001b[39mself\u001b[39m\u001b[39m.\u001b[39mval_dataset \u001b[39m=\u001b[39m EEGSegmentDataset(\u001b[39mself\u001b[39m\u001b[39m.\u001b[39mdata_dir, \u001b[39mself\u001b[39m\u001b[39m.\u001b[39mval_ids)\n",
      "File \u001b[0;32m~/icare/cnn-feature-extraction/train_cnn.py:21\u001b[0m, in \u001b[0;36mEEGSegmentDataset.__init__\u001b[0;34m(self, data_dir, patient_ids)\u001b[0m\n\u001b[1;32m     19\u001b[0m \u001b[39mfor\u001b[39;00m patient_id \u001b[39min\u001b[39;00m patient_ids:\n\u001b[1;32m     20\u001b[0m     patient_folder \u001b[39m=\u001b[39m data_dir \u001b[39m/\u001b[39m patient_id\n\u001b[0;32m---> 21\u001b[0m     \u001b[39mself\u001b[39m\u001b[39m.\u001b[39mdata_files\u001b[39m.\u001b[39mextend(\u001b[39msorted\u001b[39;49m(patient_folder\u001b[39m.\u001b[39;49miterdir()))\n",
      "File \u001b[0;32m~/miniconda3/envs/icare/lib/python3.11/pathlib.py:931\u001b[0m, in \u001b[0;36mPath.iterdir\u001b[0;34m(self)\u001b[0m\n\u001b[1;32m    927\u001b[0m \u001b[39mdef\u001b[39;00m \u001b[39miterdir\u001b[39m(\u001b[39mself\u001b[39m):\n\u001b[1;32m    928\u001b[0m \u001b[39m    \u001b[39m\u001b[39m\"\"\"Iterate over the files in this directory.  Does not yield any\u001b[39;00m\n\u001b[1;32m    929\u001b[0m \u001b[39m    result for the special paths '.' and '..'.\u001b[39;00m\n\u001b[1;32m    930\u001b[0m \u001b[39m    \"\"\"\u001b[39;00m\n\u001b[0;32m--> 931\u001b[0m     \u001b[39mfor\u001b[39;00m name \u001b[39min\u001b[39;00m os\u001b[39m.\u001b[39mlistdir(\u001b[39mself\u001b[39m):\n\u001b[1;32m    932\u001b[0m         \u001b[39myield\u001b[39;00m \u001b[39mself\u001b[39m\u001b[39m.\u001b[39m_make_child_relpath(name)\n",
      "\u001b[0;31mFileNotFoundError\u001b[0m: [Errno 2] No such file or directory: '/media/hdd1/i-care/10s/0858'"
     ]
    }
   ],
   "source": [
    "import matplotlib.pyplot as plt\n",
    "\n",
    "DEST_DIR = Path(\"/media/hdd1/i-care/10s\")\n",
    "\n",
    "# Initialize the EEGDataModule\n",
    "data_module = EEGDataModule(train_ids, val_ids, DEST_DIR)\n",
    "data_module.setup()\n",
    "\n",
    "# 1. Check the Length of Datasets\n",
    "print(f\"Number of training segments: {len(data_module.train_dataset)}\")\n",
    "print(f\"Number of validation segments: {len(data_module.val_dataset)}\")\n",
    "\n",
    "# 2. Visualize Some Data Points\n",
    "def visualize_segments(segments, num=5):\n",
    "    for i in range(min(num, len(segments))):\n",
    "        plt.figure(figsize=(10, 4))\n",
    "        plt.plot(segments[i].numpy())\n",
    "        plt.title(f\"Segment {i+1}\")\n",
    "        plt.xlabel(\"Time Points\")\n",
    "        plt.ylabel(\"EEG Value\")\n",
    "        plt.show()\n",
    "\n",
    "# Load some training data\n",
    "train_segments = next(iter(data_module.train_dataloader()))\n",
    "print(\"Visualizing Training Data:\")\n",
    "visualize_segments(train_segments)\n",
    "\n",
    "# Load some validation data\n",
    "val_segments = next(iter(data_module.val_dataloader()))\n",
    "print(\"Visualizing Validation Data:\")\n",
    "visualize_segments(val_segments)\n",
    "\n",
    "# 3. Check Batch Sizes\n",
    "print(f\"Training batch size: {train_segments.size(0)}\")\n",
    "print(f\"Validation batch size: {val_segments.size(0)}\")\n"
   ]
  },
  {
   "cell_type": "code",
   "execution_count": null,
   "metadata": {},
   "outputs": [],
   "source": []
  }
 ],
 "metadata": {
  "kernelspec": {
   "display_name": "icare",
   "language": "python",
   "name": "python3"
  },
  "language_info": {
   "codemirror_mode": {
    "name": "ipython",
    "version": 3
   },
   "file_extension": ".py",
   "mimetype": "text/x-python",
   "name": "python",
   "nbconvert_exporter": "python",
   "pygments_lexer": "ipython3",
   "version": "3.11.4"
  },
  "orig_nbformat": 4
 },
 "nbformat": 4,
 "nbformat_minor": 2
}
