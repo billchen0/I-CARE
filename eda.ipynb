{
 "cells": [
  {
   "attachments": {},
   "cell_type": "markdown",
   "metadata": {},
   "source": [
    "# Exploratory Analysis\n",
    "\n",
    "### I-CARE: International Cardiac Arrest REsearch consortium Database"
   ]
  },
  {
   "cell_type": "code",
   "execution_count": 18,
   "metadata": {},
   "outputs": [],
   "source": [
    "%reload_ext autoreload\n",
    "%autoreload 2\n",
    "from pathlib import Path\n",
    "import matplotlib.pyplot as plt\n",
    "import seaborn as sns\n",
    "from scipy.io import loadmat\n",
    "sns.set_theme(style=\"whitegrid\")\n",
    "from util import compile_clinical_data"
   ]
  },
  {
   "attachments": {},
   "cell_type": "markdown",
   "metadata": {},
   "source": [
    "## Patient Metadata"
   ]
  },
  {
   "cell_type": "code",
   "execution_count": 3,
   "metadata": {},
   "outputs": [],
   "source": [
    "root_path = Path(\"/media/hdd1/i-care/training/\")"
   ]
  },
  {
   "cell_type": "code",
   "execution_count": 163,
   "metadata": {},
   "outputs": [],
   "source": [
    "# Load and compile patient metadata\n",
    "patient_df = compile_clinical_data(root_path)"
   ]
  },
  {
   "cell_type": "code",
   "execution_count": null,
   "metadata": {},
   "outputs": [],
   "source": [
    "# Plot patient age distribution\n",
    "plt.figure(figsize=(10, 6))\n",
    "sns.histplot(patient_df[\"Age\"], bins=15, kde=True)\n",
    "plt.title(\"Patient Age Distribution\")\n",
    "plt.xlabel(\"Age\")\n",
    "plt.ylabel(\"Frequency\")"
   ]
  },
  {
   "cell_type": "code",
   "execution_count": null,
   "metadata": {},
   "outputs": [],
   "source": [
    "# Plot ROSC distribution\n",
    "plt.figure(figsize=(10, 6))\n",
    "sns.histplot(patient_df[\"ROSC\"], bins=15, kde=True)\n",
    "plt.title(\"Time to ROSC Distribution\")\n",
    "plt.xlabel(\"Time to ROSC (hr)\")\n",
    "plt.ylabel(\"Frequency\")"
   ]
  },
  {
   "cell_type": "code",
   "execution_count": null,
   "metadata": {},
   "outputs": [],
   "source": [
    "# Plot count plots for categorical columns\n",
    "cat_columns = [\"Sex\", \"OHCA\", \"Shockable Rhythm\", \"TTM\", \"Outcome\", \"CPC\"]\n",
    "plt.figure(figsize=(15, 4))\n",
    "for i, col in enumerate(cat_columns):\n",
    "    plt.subplot(1, len(cat_columns), i+1)\n",
    "    sns.countplot(data=patient_df, x=col)\n",
    "    if i == 0:\n",
    "        plt.ylabel(col)\n",
    "    else:\n",
    "        plt.ylabel(\"\")\n",
    "\n",
    "plt.tight_layout()\n",
    "plt.subplots_adjust(top=0.85)\n",
    "plt.suptitle(\"Categorical Clinical Variable Count Summary\")"
   ]
  },
  {
   "attachments": {},
   "cell_type": "markdown",
   "metadata": {},
   "source": [
    "## Signal Data"
   ]
  },
  {
   "cell_type": "code",
   "execution_count": null,
   "metadata": {},
   "outputs": [],
   "source": []
  },
  {
   "cell_type": "code",
   "execution_count": 20,
   "metadata": {},
   "outputs": [
    {
     "data": {
      "text/plain": [
       "[PosixPath('/media/hdd1/i-care/training/0284/0284_008_010_EEG.mat')]"
      ]
     },
     "execution_count": 20,
     "metadata": {},
     "output_type": "execute_result"
    }
   ],
   "source": [
    "load_single_patient_eeg(root_path, \"0284\")"
   ]
  },
  {
   "cell_type": "code",
   "execution_count": null,
   "metadata": {},
   "outputs": [],
   "source": []
  }
 ],
 "metadata": {
  "kernelspec": {
   "display_name": "icare",
   "language": "python",
   "name": "python3"
  },
  "language_info": {
   "codemirror_mode": {
    "name": "ipython",
    "version": 3
   },
   "file_extension": ".py",
   "mimetype": "text/x-python",
   "name": "python",
   "nbconvert_exporter": "python",
   "pygments_lexer": "ipython3",
   "version": "3.11.4"
  },
  "orig_nbformat": 4
 },
 "nbformat": 4,
 "nbformat_minor": 2
}
