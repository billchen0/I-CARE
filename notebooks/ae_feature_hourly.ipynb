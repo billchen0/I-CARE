{
 "cells": [
  {
   "cell_type": "code",
   "execution_count": 2,
   "metadata": {},
   "outputs": [],
   "source": [
    "from pathlib import Path\n",
    "from collections import defaultdict\n",
    "import numpy as np"
   ]
  },
  {
   "cell_type": "code",
   "execution_count": 3,
   "metadata": {},
   "outputs": [],
   "source": [
    "ae_feat_path = Path(\"/media/hdd1/i-care/ae-features\")"
   ]
  },
  {
   "cell_type": "code",
   "execution_count": 5,
   "metadata": {},
   "outputs": [],
   "source": [
    "for patient_path in ae_feat_path.iterdir():\n",
    "    files_by_hour = defaultdict(list)\n",
    "    for file in patient_path.iterdir():\n",
    "        hour_id = file.stem.split(\"_\")[1]\n",
    "        files_by_hour[hour_id].append(file)\n",
    "\n",
    "    for hour_id, files in files_by_hour.items():\n",
    "        combined_data = np.concatenate([np.load(file) for file in files])\n",
    "        combined_filename = f\"{patient_path.parts[-1]}_{hour_id}_ae_features.npy\"\n",
    "        combined_path = patient_path / combined_filename\n",
    "        np.save(combined_path, combined_data)\n",
    "\n",
    "        for file in files:\n",
    "            file.unlink()"
   ]
  }
 ],
 "metadata": {
  "kernelspec": {
   "display_name": "icare",
   "language": "python",
   "name": "python3"
  },
  "language_info": {
   "codemirror_mode": {
    "name": "ipython",
    "version": 3
   },
   "file_extension": ".py",
   "mimetype": "text/x-python",
   "name": "python",
   "nbconvert_exporter": "python",
   "pygments_lexer": "ipython3",
   "version": "3.11.4"
  }
 },
 "nbformat": 4,
 "nbformat_minor": 2
}
