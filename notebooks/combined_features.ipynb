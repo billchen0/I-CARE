{
 "cells": [
  {
   "cell_type": "code",
   "execution_count": 9,
   "metadata": {},
   "outputs": [],
   "source": [
    "from pathlib import Path\n",
    "import numpy as np"
   ]
  },
  {
   "cell_type": "code",
   "execution_count": 20,
   "metadata": {},
   "outputs": [],
   "source": [
    "root_path = Path(\"/media/hdd1/i-care\")\n",
    "ae_feat_path = root_path / \"ae-features\"\n",
    "man_feat_path = root_path / \"features\"\n",
    "combined_feat_path = root_path / \"combined-features\""
   ]
  },
  {
   "cell_type": "code",
   "execution_count": 23,
   "metadata": {},
   "outputs": [],
   "source": [
    "for patient_dir in list(ae_feat_path.iterdir())[:1]:\n",
    "    (combined_feat_path / patient_dir.name).mkdir(parents=True, exist_ok=True)\n",
    "\n",
    "    for ae_file in patient_dir.iterdir():\n",
    "        # Extract hour from the filename\n",
    "        hour = ae_file.stem.split(\"_\")[1]\n",
    "        # Find corresponding manual feature file\n",
    "        man_file_pattern = f\"{patient_dir.name}_*_{hour}_features.npy\"\n",
    "        man_file = list(man_feat_path.joinpath(patient_dir.name).glob(man_file_pattern))\n",
    "\n",
    "        if man_file:\n",
    "            man_file = man_file[0]\n",
    "            # Load feature arrays\n",
    "            ae_feat = np.load(ae_file)\n",
    "            man_feat = np.load(man_file)\n",
    "            # Truncate to the shortest sample\n",
    "            min_sample = min(ae_feat.shape[0], man_feat.shape[0])\n",
    "            ae_feat = ae_feat[:min_sample]\n",
    "            man_feat = man_feat[:min_sample]\n",
    "            # Concatenate features\n",
    "            combined_feat = np.hstack((man_feat, ae_feat))\n",
    "            # Save combined features\n",
    "            combined_filename = f\"{patient_dir.name}_{hour}_features.npy\"\n",
    "            np.save(combined_feat_path / patient_dir.name / combined_filename, combined_feat)"
   ]
  },
  {
   "cell_type": "code",
   "execution_count": null,
   "metadata": {},
   "outputs": [],
   "source": []
  }
 ],
 "metadata": {
  "kernelspec": {
   "display_name": "icare",
   "language": "python",
   "name": "python3"
  },
  "language_info": {
   "codemirror_mode": {
    "name": "ipython",
    "version": 3
   },
   "file_extension": ".py",
   "mimetype": "text/x-python",
   "name": "python",
   "nbconvert_exporter": "python",
   "pygments_lexer": "ipython3",
   "version": "3.11.4"
  }
 },
 "nbformat": 4,
 "nbformat_minor": 2
}
