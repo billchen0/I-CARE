{
 "cells": [
  {
   "cell_type": "code",
   "execution_count": 33,
   "metadata": {},
   "outputs": [],
   "source": [
    "%reload_ext autoreload\n",
    "%autoreload 2\n",
    "from pathlib import Path\n",
    "from sklearn.model_selection import train_test_split\n",
    "\n",
    "import sys\n",
    "sys.path.append(\"..\")\n",
    "from dataset import ManualFeatureDataset"
   ]
  },
  {
   "cell_type": "markdown",
   "metadata": {},
   "source": [
    "## Train/Test Split"
   ]
  },
  {
   "cell_type": "code",
   "execution_count": 34,
   "metadata": {},
   "outputs": [],
   "source": [
    "root_dir = Path(\"/media/nvme1/icare-data/6h-features\")\n",
    "labels_csv = Path(\"/home/bc299/icare/patient_data.csv\")"
   ]
  },
  {
   "cell_type": "markdown",
   "metadata": {},
   "source": [
    "## Dataset Setup"
   ]
  },
  {
   "cell_type": "code",
   "execution_count": 69,
   "metadata": {},
   "outputs": [],
   "source": [
    "all_patient_ids = [dir_.name for dir_ in root_dir.iterdir()]\n",
    "train_ids, temp_ids = train_test_split(all_patient_ids, test_size=0.3, random_state=42)\n",
    "val_ids, test_ids = train_test_split(temp_ids, test_size=2/3, random_state=42)"
   ]
  },
  {
   "cell_type": "code",
   "execution_count": 87,
   "metadata": {},
   "outputs": [
    {
     "name": "stderr",
     "output_type": "stream",
     "text": [
      "/home/bc299/icare/notebooks/../dataset.py:12: FutureWarning: The default value of regex will change from True to False in a future version.\n",
      "  self.labels_df.index = self.labels_df.index.astype(str).str.replace(\".0\", \"\").str.rjust(4, \"0\")\n"
     ]
    },
    {
     "data": {
      "text/html": [
       "<div>\n",
       "<style scoped>\n",
       "    .dataframe tbody tr th:only-of-type {\n",
       "        vertical-align: middle;\n",
       "    }\n",
       "\n",
       "    .dataframe tbody tr th {\n",
       "        vertical-align: top;\n",
       "    }\n",
       "\n",
       "    .dataframe thead th {\n",
       "        text-align: right;\n",
       "    }\n",
       "</style>\n",
       "<table border=\"1\" class=\"dataframe\">\n",
       "  <thead>\n",
       "    <tr style=\"text-align: right;\">\n",
       "      <th></th>\n",
       "      <th>Hospital</th>\n",
       "      <th>Age</th>\n",
       "      <th>Sex</th>\n",
       "      <th>ROSC</th>\n",
       "      <th>OHCA</th>\n",
       "      <th>Shockable Rhythm</th>\n",
       "      <th>TTM</th>\n",
       "      <th>Outcome</th>\n",
       "      <th>CPC</th>\n",
       "    </tr>\n",
       "    <tr>\n",
       "      <th>Patient</th>\n",
       "      <th></th>\n",
       "      <th></th>\n",
       "      <th></th>\n",
       "      <th></th>\n",
       "      <th></th>\n",
       "      <th></th>\n",
       "      <th></th>\n",
       "      <th></th>\n",
       "      <th></th>\n",
       "    </tr>\n",
       "  </thead>\n",
       "  <tbody>\n",
       "    <tr>\n",
       "      <th>0634</th>\n",
       "      <td>A</td>\n",
       "      <td>69.0</td>\n",
       "      <td>Male</td>\n",
       "      <td>NaN</td>\n",
       "      <td>True</td>\n",
       "      <td>True</td>\n",
       "      <td>33.0</td>\n",
       "      <td>Poor</td>\n",
       "      <td>5.0</td>\n",
       "    </tr>\n",
       "    <tr>\n",
       "      <th>0496</th>\n",
       "      <td>D</td>\n",
       "      <td>82.0</td>\n",
       "      <td>Male</td>\n",
       "      <td>NaN</td>\n",
       "      <td>NaN</td>\n",
       "      <td>False</td>\n",
       "      <td>NaN</td>\n",
       "      <td>Poor</td>\n",
       "      <td>5.0</td>\n",
       "    </tr>\n",
       "    <tr>\n",
       "      <th>0493</th>\n",
       "      <td>A</td>\n",
       "      <td>67.0</td>\n",
       "      <td>Male</td>\n",
       "      <td>NaN</td>\n",
       "      <td>True</td>\n",
       "      <td>True</td>\n",
       "      <td>33.0</td>\n",
       "      <td>Poor</td>\n",
       "      <td>5.0</td>\n",
       "    </tr>\n",
       "    <tr>\n",
       "      <th>0742</th>\n",
       "      <td>A</td>\n",
       "      <td>67.0</td>\n",
       "      <td>Male</td>\n",
       "      <td>NaN</td>\n",
       "      <td>True</td>\n",
       "      <td>True</td>\n",
       "      <td>33.0</td>\n",
       "      <td>Good</td>\n",
       "      <td>1.0</td>\n",
       "    </tr>\n",
       "    <tr>\n",
       "      <th>0611</th>\n",
       "      <td>B</td>\n",
       "      <td>40.0</td>\n",
       "      <td>Male</td>\n",
       "      <td>14.0</td>\n",
       "      <td>False</td>\n",
       "      <td>False</td>\n",
       "      <td>33.0</td>\n",
       "      <td>Poor</td>\n",
       "      <td>5.0</td>\n",
       "    </tr>\n",
       "    <tr>\n",
       "      <th>...</th>\n",
       "      <td>...</td>\n",
       "      <td>...</td>\n",
       "      <td>...</td>\n",
       "      <td>...</td>\n",
       "      <td>...</td>\n",
       "      <td>...</td>\n",
       "      <td>...</td>\n",
       "      <td>...</td>\n",
       "      <td>...</td>\n",
       "    </tr>\n",
       "    <tr>\n",
       "      <th>0931</th>\n",
       "      <td>D</td>\n",
       "      <td>28.0</td>\n",
       "      <td>Female</td>\n",
       "      <td>60.0</td>\n",
       "      <td>True</td>\n",
       "      <td>False</td>\n",
       "      <td>33.0</td>\n",
       "      <td>Poor</td>\n",
       "      <td>5.0</td>\n",
       "    </tr>\n",
       "    <tr>\n",
       "      <th>0558</th>\n",
       "      <td>B</td>\n",
       "      <td>71.0</td>\n",
       "      <td>Female</td>\n",
       "      <td>15.0</td>\n",
       "      <td>True</td>\n",
       "      <td>False</td>\n",
       "      <td>33.0</td>\n",
       "      <td>Poor</td>\n",
       "      <td>5.0</td>\n",
       "    </tr>\n",
       "    <tr>\n",
       "      <th>0481</th>\n",
       "      <td>A</td>\n",
       "      <td>76.0</td>\n",
       "      <td>Male</td>\n",
       "      <td>NaN</td>\n",
       "      <td>True</td>\n",
       "      <td>True</td>\n",
       "      <td>33.0</td>\n",
       "      <td>Poor</td>\n",
       "      <td>5.0</td>\n",
       "    </tr>\n",
       "    <tr>\n",
       "      <th>0755</th>\n",
       "      <td>D</td>\n",
       "      <td>78.0</td>\n",
       "      <td>Female</td>\n",
       "      <td>70.0</td>\n",
       "      <td>False</td>\n",
       "      <td>False</td>\n",
       "      <td>33.0</td>\n",
       "      <td>Poor</td>\n",
       "      <td>5.0</td>\n",
       "    </tr>\n",
       "    <tr>\n",
       "      <th>0451</th>\n",
       "      <td>A</td>\n",
       "      <td>73.0</td>\n",
       "      <td>Male</td>\n",
       "      <td>NaN</td>\n",
       "      <td>False</td>\n",
       "      <td>True</td>\n",
       "      <td>33.0</td>\n",
       "      <td>Good</td>\n",
       "      <td>1.0</td>\n",
       "    </tr>\n",
       "  </tbody>\n",
       "</table>\n",
       "<p>278 rows × 9 columns</p>\n",
       "</div>"
      ],
      "text/plain": [
       "        Hospital   Age     Sex  ROSC   OHCA Shockable Rhythm   TTM Outcome  \\\n",
       "Patient                                                                      \n",
       "0634           A  69.0    Male   NaN   True             True  33.0    Poor   \n",
       "0496           D  82.0    Male   NaN    NaN            False   NaN    Poor   \n",
       "0493           A  67.0    Male   NaN   True             True  33.0    Poor   \n",
       "0742           A  67.0    Male   NaN   True             True  33.0    Good   \n",
       "0611           B  40.0    Male  14.0  False            False  33.0    Poor   \n",
       "...          ...   ...     ...   ...    ...              ...   ...     ...   \n",
       "0931           D  28.0  Female  60.0   True            False  33.0    Poor   \n",
       "0558           B  71.0  Female  15.0   True            False  33.0    Poor   \n",
       "0481           A  76.0    Male   NaN   True             True  33.0    Poor   \n",
       "0755           D  78.0  Female  70.0  False            False  33.0    Poor   \n",
       "0451           A  73.0    Male   NaN  False             True  33.0    Good   \n",
       "\n",
       "         CPC  \n",
       "Patient       \n",
       "0634     5.0  \n",
       "0496     5.0  \n",
       "0493     5.0  \n",
       "0742     1.0  \n",
       "0611     5.0  \n",
       "...      ...  \n",
       "0931     5.0  \n",
       "0558     5.0  \n",
       "0481     5.0  \n",
       "0755     5.0  \n",
       "0451     1.0  \n",
       "\n",
       "[278 rows x 9 columns]"
      ]
     },
     "execution_count": 87,
     "metadata": {},
     "output_type": "execute_result"
    }
   ],
   "source": [
    "ManualFeatureDataset(root_dir, labels_csv, train_ids).labels_df"
   ]
  },
  {
   "cell_type": "code",
   "execution_count": 88,
   "metadata": {},
   "outputs": [
    {
     "data": {
      "text/plain": [
       "357"
      ]
     },
     "execution_count": 88,
     "metadata": {},
     "output_type": "execute_result"
    }
   ],
   "source": [
    "len(train_ids)"
   ]
  },
  {
   "cell_type": "code",
   "execution_count": 98,
   "metadata": {},
   "outputs": [
    {
     "name": "stderr",
     "output_type": "stream",
     "text": [
      "/tmp/ipykernel_175975/4224253903.py:3: FutureWarning: The default value of regex will change from True to False in a future version.\n",
      "  df.index = df.index.astype(str).str.replace(\".0\", \"\").str.rjust(4, \"0\")\n"
     ]
    }
   ],
   "source": [
    "import pandas as pd\n",
    "df = pd.read_csv(labels_csv, index_col=0)\n",
    "df.index = df.index.astype(str).str.replace(\".0\", \"\").str.rjust(4, \"0\")"
   ]
  }
 ],
 "metadata": {
  "kernelspec": {
   "display_name": "icare",
   "language": "python",
   "name": "python3"
  },
  "language_info": {
   "codemirror_mode": {
    "name": "ipython",
    "version": 3
   },
   "file_extension": ".py",
   "mimetype": "text/x-python",
   "name": "python",
   "nbconvert_exporter": "python",
   "pygments_lexer": "ipython3",
   "version": "3.11.4"
  },
  "orig_nbformat": 4
 },
 "nbformat": 4,
 "nbformat_minor": 2
}
