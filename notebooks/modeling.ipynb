{
 "cells": [
  {
   "cell_type": "code",
   "execution_count": 1,
   "metadata": {},
   "outputs": [],
   "source": [
    "%reload_ext autoreload\n",
    "%autoreload 2\n",
    "from pathlib import Path\n",
    "from sklearn.model_selection import train_test_split\n",
    "\n",
    "import sys\n",
    "sys.path.append(\"..\")\n",
    "from dataset import ManualFeatureDataset, ManualFeatureDataModule"
   ]
  },
  {
   "cell_type": "markdown",
   "metadata": {},
   "source": [
    "## Train/Test Split"
   ]
  },
  {
   "cell_type": "code",
   "execution_count": 2,
   "metadata": {},
   "outputs": [],
   "source": [
    "root_dir = Path(\"/media/nvme1/icare-data/6h-features\")\n",
    "labels_csv = Path(\"/home/bc299/icare/patient_data.csv\")"
   ]
  },
  {
   "cell_type": "markdown",
   "metadata": {},
   "source": [
    "## Dataset Setup"
   ]
  },
  {
   "cell_type": "code",
   "execution_count": 3,
   "metadata": {},
   "outputs": [],
   "source": [
    "all_patient_ids = [dir_.name for dir_ in root_dir.iterdir()]\n",
    "train_ids, temp_ids = train_test_split(all_patient_ids, test_size=0.3, random_state=42)\n",
    "val_ids, test_ids = train_test_split(temp_ids, test_size=2/3, random_state=42)"
   ]
  },
  {
   "cell_type": "code",
   "execution_count": 4,
   "metadata": {},
   "outputs": [],
   "source": [
    "dataset = ManualFeatureDataset(root_dir, labels_csv, train_ids)"
   ]
  },
  {
   "cell_type": "code",
   "execution_count": 5,
   "metadata": {},
   "outputs": [],
   "source": [
    "data_module = ManualFeatureDataModule(root_dir=root_dir,\n",
    "                                      labels_csv=labels_csv,\n",
    "                                      batch_size=32)\n",
    "data_module.setup()"
   ]
  },
  {
   "cell_type": "markdown",
   "metadata": {},
   "source": [
    "## Train Model"
   ]
  },
  {
   "cell_type": "code",
   "execution_count": 12,
   "metadata": {},
   "outputs": [],
   "source": [
    "from model import BiLSTMClassifierModule"
   ]
  },
  {
   "cell_type": "code",
   "execution_count": 13,
   "metadata": {},
   "outputs": [
    {
     "name": "stderr",
     "output_type": "stream",
     "text": [
      "/home/bc299/miniconda3/envs/icare/lib/python3.11/site-packages/lightning/pytorch/loggers/wandb.py:398: UserWarning: There is a wandb run already in progress and newly created instances of `WandbLogger` will reuse this run. If this is not desired, call `wandb.finish()` before instantiating `WandbLogger`.\n",
      "  rank_zero_warn(\n",
      "GPU available: True (cuda), used: True\n",
      "TPU available: False, using: 0 TPU cores\n",
      "IPU available: False, using: 0 IPUs\n",
      "HPU available: False, using: 0 HPUs\n"
     ]
    }
   ],
   "source": [
    "from lightning.pytorch.loggers import WandbLogger\n",
    "from lightning.pytorch import Trainer\n",
    "\n",
    "data_module = ManualFeatureDataModule(root_dir, labels_csv, batch_size=32)\n",
    "model = BiLSTMClassifierModule(input_size=8, hidden_size=128, num_layers=4, dropout=0.5, learning_rate=1e-5)\n",
    "logger = WandbLogger(project=\"test-project\")\n",
    "trainer = Trainer(max_epochs=10, logger=logger)"
   ]
  },
  {
   "cell_type": "code",
   "execution_count": 14,
   "metadata": {},
   "outputs": [
    {
     "name": "stderr",
     "output_type": "stream",
     "text": [
      "/home/bc299/miniconda3/envs/icare/lib/python3.11/site-packages/lightning/pytorch/callbacks/model_checkpoint.py:617: UserWarning: Checkpoint directory ./test-project/so6r6gvd/checkpoints exists and is not empty.\n",
      "  rank_zero_warn(f\"Checkpoint directory {dirpath} exists and is not empty.\")\n",
      "LOCAL_RANK: 0 - CUDA_VISIBLE_DEVICES: [0]\n",
      "\n",
      "   | Name      | Type             | Params\n",
      "------------------------------------------------\n",
      "0  | model     | BiLSTMClassifier | 1.3 M \n",
      "1  | train_acc | BinaryAccuracy   | 0     \n",
      "2  | val_acc   | BinaryAccuracy   | 0     \n",
      "3  | test_acc  | BinaryAccuracy   | 0     \n",
      "4  | train_auc | BinaryAUROC      | 0     \n",
      "5  | val_auc   | BinaryAUROC      | 0     \n",
      "6  | test_auc  | BinaryAUROC      | 0     \n",
      "7  | train_f1  | BinaryF1Score    | 0     \n",
      "8  | val_f1    | BinaryF1Score    | 0     \n",
      "9  | test_f1   | BinaryF1Score    | 0     \n",
      "10 | test_roc  | BinaryROC        | 0     \n",
      "------------------------------------------------\n",
      "1.3 M     Trainable params\n",
      "0         Non-trainable params\n",
      "1.3 M     Total params\n",
      "5.310     Total estimated model params size (MB)\n"
     ]
    },
    {
     "name": "stdout",
     "output_type": "stream",
     "text": [
      "                                                                            "
     ]
    },
    {
     "name": "stderr",
     "output_type": "stream",
     "text": [
      "/home/bc299/miniconda3/envs/icare/lib/python3.11/site-packages/lightning/pytorch/trainer/connectors/data_connector.py:442: PossibleUserWarning: The dataloader, val_dataloader, does not have many workers which may be a bottleneck. Consider increasing the value of the `num_workers` argument` (try 32 which is the number of cpus on this machine) in the `DataLoader` init to improve performance.\n",
      "  rank_zero_warn(\n",
      "/home/bc299/miniconda3/envs/icare/lib/python3.11/site-packages/lightning/pytorch/trainer/connectors/data_connector.py:442: PossibleUserWarning: The dataloader, train_dataloader, does not have many workers which may be a bottleneck. Consider increasing the value of the `num_workers` argument` (try 32 which is the number of cpus on this machine) in the `DataLoader` init to improve performance.\n",
      "  rank_zero_warn(\n"
     ]
    },
    {
     "name": "stdout",
     "output_type": "stream",
     "text": [
      "Epoch 1:  13%|█▎        | 16/123 [00:00<00:00, 128.80it/s, v_num=6gvd, train_loss_step=0.679, train_acc_step=0.719, train_auc=0.500, train_f1=0.836, val_loss=0.687, val_acc=0.627, val_auc=0.500, val_f1=0.771, train_loss_epoch=0.693, train_acc_epoch=0.514] "
     ]
    },
    {
     "name": "stderr",
     "output_type": "stream",
     "text": [
      "/home/bc299/miniconda3/envs/icare/lib/python3.11/site-packages/torchmetrics/utilities/prints.py:43: UserWarning: No negative samples in targets, false positive value should be meaningless. Returning zero tensor in false positive score\n",
      "  warnings.warn(*args, **kwargs)  # noqa: B028\n"
     ]
    },
    {
     "name": "stdout",
     "output_type": "stream",
     "text": [
      "Epoch 7:  28%|██▊       | 34/123 [00:00<00:00, 129.56it/s, v_num=6gvd, train_loss_step=0.610, train_acc_step=0.781, train_auc=0.500, train_f1=0.877, val_loss=0.662, val_acc=0.627, val_auc=0.500, val_f1=0.771, train_loss_epoch=0.676, train_acc_epoch=0.591] "
     ]
    }
   ],
   "source": [
    "trainer.fit(model, data_module)"
   ]
  },
  {
   "cell_type": "code",
   "execution_count": 10,
   "metadata": {},
   "outputs": [
    {
     "name": "stderr",
     "output_type": "stream",
     "text": [
      "LOCAL_RANK: 0 - CUDA_VISIBLE_DEVICES: [0]\n",
      "/home/bc299/miniconda3/envs/icare/lib/python3.11/site-packages/lightning/pytorch/trainer/connectors/data_connector.py:442: PossibleUserWarning: The dataloader, test_dataloader, does not have many workers which may be a bottleneck. Consider increasing the value of the `num_workers` argument` (try 32 which is the number of cpus on this machine) in the `DataLoader` init to improve performance.\n",
      "  rank_zero_warn(\n"
     ]
    },
    {
     "name": "stdout",
     "output_type": "stream",
     "text": [
      "Testing DataLoader 0: 100%|██████████| 11/11 [00:00<00:00, 252.85it/s]\n"
     ]
    },
    {
     "data": {
      "text/html": [
       "<pre style=\"white-space:pre;overflow-x:auto;line-height:normal;font-family:Menlo,'DejaVu Sans Mono',consolas,'Courier New',monospace\">┏━━━━━━━━━━━━━━━━━━━━━━━━━━━┳━━━━━━━━━━━━━━━━━━━━━━━━━━━┓\n",
       "┃<span style=\"font-weight: bold\">   Runningstage.testing    </span>┃<span style=\"font-weight: bold\">                           </span>┃\n",
       "┃<span style=\"font-weight: bold\">          metric           </span>┃<span style=\"font-weight: bold\">       DataLoader 0        </span>┃\n",
       "┡━━━━━━━━━━━━━━━━━━━━━━━━━━━╇━━━━━━━━━━━━━━━━━━━━━━━━━━━┩\n",
       "│<span style=\"color: #008080; text-decoration-color: #008080\">        test_acc_12        </span>│<span style=\"color: #800080; text-decoration-color: #800080\">    0.5980392156862745     </span>│\n",
       "│<span style=\"color: #008080; text-decoration-color: #008080\">        test_acc_18        </span>│<span style=\"color: #800080; text-decoration-color: #800080\">    0.5980392156862745     </span>│\n",
       "│<span style=\"color: #008080; text-decoration-color: #008080\">        test_acc_24        </span>│<span style=\"color: #800080; text-decoration-color: #800080\">    0.5980392156862745     </span>│\n",
       "│<span style=\"color: #008080; text-decoration-color: #008080\">        test_acc_30        </span>│<span style=\"color: #800080; text-decoration-color: #800080\">    0.5980392156862745     </span>│\n",
       "│<span style=\"color: #008080; text-decoration-color: #008080\">        test_acc_36        </span>│<span style=\"color: #800080; text-decoration-color: #800080\">    0.5980392156862745     </span>│\n",
       "│<span style=\"color: #008080; text-decoration-color: #008080\">        test_acc_42        </span>│<span style=\"color: #800080; text-decoration-color: #800080\">    0.5980392156862745     </span>│\n",
       "│<span style=\"color: #008080; text-decoration-color: #008080\">        test_acc_48        </span>│<span style=\"color: #800080; text-decoration-color: #800080\">    0.5980392156862745     </span>│\n",
       "│<span style=\"color: #008080; text-decoration-color: #008080\">        test_acc_54        </span>│<span style=\"color: #800080; text-decoration-color: #800080\">    0.5980392156862745     </span>│\n",
       "│<span style=\"color: #008080; text-decoration-color: #008080\">        test_acc_60        </span>│<span style=\"color: #800080; text-decoration-color: #800080\">    0.5980392156862745     </span>│\n",
       "│<span style=\"color: #008080; text-decoration-color: #008080\">        test_acc_66        </span>│<span style=\"color: #800080; text-decoration-color: #800080\">    0.5980392156862745     </span>│\n",
       "│<span style=\"color: #008080; text-decoration-color: #008080\">        test_acc_72        </span>│<span style=\"color: #800080; text-decoration-color: #800080\">    0.5980392156862745     </span>│\n",
       "│<span style=\"color: #008080; text-decoration-color: #008080\">        test_auc_12        </span>│<span style=\"color: #800080; text-decoration-color: #800080\">            0.5            </span>│\n",
       "│<span style=\"color: #008080; text-decoration-color: #008080\">        test_auc_18        </span>│<span style=\"color: #800080; text-decoration-color: #800080\">            0.5            </span>│\n",
       "│<span style=\"color: #008080; text-decoration-color: #008080\">        test_auc_24        </span>│<span style=\"color: #800080; text-decoration-color: #800080\">            0.5            </span>│\n",
       "│<span style=\"color: #008080; text-decoration-color: #008080\">        test_auc_30        </span>│<span style=\"color: #800080; text-decoration-color: #800080\">            0.5            </span>│\n",
       "│<span style=\"color: #008080; text-decoration-color: #008080\">        test_auc_36        </span>│<span style=\"color: #800080; text-decoration-color: #800080\">            0.5            </span>│\n",
       "│<span style=\"color: #008080; text-decoration-color: #008080\">        test_auc_42        </span>│<span style=\"color: #800080; text-decoration-color: #800080\">            0.5            </span>│\n",
       "│<span style=\"color: #008080; text-decoration-color: #008080\">        test_auc_48        </span>│<span style=\"color: #800080; text-decoration-color: #800080\">            0.5            </span>│\n",
       "│<span style=\"color: #008080; text-decoration-color: #008080\">        test_auc_54        </span>│<span style=\"color: #800080; text-decoration-color: #800080\">            0.5            </span>│\n",
       "│<span style=\"color: #008080; text-decoration-color: #008080\">        test_auc_60        </span>│<span style=\"color: #800080; text-decoration-color: #800080\">            0.5            </span>│\n",
       "│<span style=\"color: #008080; text-decoration-color: #008080\">        test_auc_66        </span>│<span style=\"color: #800080; text-decoration-color: #800080\">            0.5            </span>│\n",
       "│<span style=\"color: #008080; text-decoration-color: #008080\">        test_auc_72        </span>│<span style=\"color: #800080; text-decoration-color: #800080\">            0.5            </span>│\n",
       "│<span style=\"color: #008080; text-decoration-color: #008080\">        test_f1_12         </span>│<span style=\"color: #800080; text-decoration-color: #800080\">    0.7484662532806396     </span>│\n",
       "│<span style=\"color: #008080; text-decoration-color: #008080\">        test_f1_18         </span>│<span style=\"color: #800080; text-decoration-color: #800080\">    0.7484662532806396     </span>│\n",
       "│<span style=\"color: #008080; text-decoration-color: #008080\">        test_f1_24         </span>│<span style=\"color: #800080; text-decoration-color: #800080\">    0.7484662532806396     </span>│\n",
       "│<span style=\"color: #008080; text-decoration-color: #008080\">        test_f1_30         </span>│<span style=\"color: #800080; text-decoration-color: #800080\">    0.7484662532806396     </span>│\n",
       "│<span style=\"color: #008080; text-decoration-color: #008080\">        test_f1_36         </span>│<span style=\"color: #800080; text-decoration-color: #800080\">    0.7484662532806396     </span>│\n",
       "│<span style=\"color: #008080; text-decoration-color: #008080\">        test_f1_42         </span>│<span style=\"color: #800080; text-decoration-color: #800080\">    0.7484662532806396     </span>│\n",
       "│<span style=\"color: #008080; text-decoration-color: #008080\">        test_f1_48         </span>│<span style=\"color: #800080; text-decoration-color: #800080\">    0.7484662532806396     </span>│\n",
       "│<span style=\"color: #008080; text-decoration-color: #008080\">        test_f1_54         </span>│<span style=\"color: #800080; text-decoration-color: #800080\">    0.7484662532806396     </span>│\n",
       "│<span style=\"color: #008080; text-decoration-color: #008080\">        test_f1_60         </span>│<span style=\"color: #800080; text-decoration-color: #800080\">    0.7484662532806396     </span>│\n",
       "│<span style=\"color: #008080; text-decoration-color: #008080\">        test_f1_66         </span>│<span style=\"color: #800080; text-decoration-color: #800080\">    0.7484662532806396     </span>│\n",
       "│<span style=\"color: #008080; text-decoration-color: #008080\">        test_f1_72         </span>│<span style=\"color: #800080; text-decoration-color: #800080\">    0.7484662532806396     </span>│\n",
       "└───────────────────────────┴───────────────────────────┘\n",
       "</pre>\n"
      ],
      "text/plain": [
       "┏━━━━━━━━━━━━━━━━━━━━━━━━━━━┳━━━━━━━━━━━━━━━━━━━━━━━━━━━┓\n",
       "┃\u001b[1m \u001b[0m\u001b[1m  Runningstage.testing   \u001b[0m\u001b[1m \u001b[0m┃\u001b[1m                           \u001b[0m┃\n",
       "┃\u001b[1m \u001b[0m\u001b[1m         metric          \u001b[0m\u001b[1m \u001b[0m┃\u001b[1m \u001b[0m\u001b[1m      DataLoader 0       \u001b[0m\u001b[1m \u001b[0m┃\n",
       "┡━━━━━━━━━━━━━━━━━━━━━━━━━━━╇━━━━━━━━━━━━━━━━━━━━━━━━━━━┩\n",
       "│\u001b[36m \u001b[0m\u001b[36m       test_acc_12       \u001b[0m\u001b[36m \u001b[0m│\u001b[35m \u001b[0m\u001b[35m   0.5980392156862745    \u001b[0m\u001b[35m \u001b[0m│\n",
       "│\u001b[36m \u001b[0m\u001b[36m       test_acc_18       \u001b[0m\u001b[36m \u001b[0m│\u001b[35m \u001b[0m\u001b[35m   0.5980392156862745    \u001b[0m\u001b[35m \u001b[0m│\n",
       "│\u001b[36m \u001b[0m\u001b[36m       test_acc_24       \u001b[0m\u001b[36m \u001b[0m│\u001b[35m \u001b[0m\u001b[35m   0.5980392156862745    \u001b[0m\u001b[35m \u001b[0m│\n",
       "│\u001b[36m \u001b[0m\u001b[36m       test_acc_30       \u001b[0m\u001b[36m \u001b[0m│\u001b[35m \u001b[0m\u001b[35m   0.5980392156862745    \u001b[0m\u001b[35m \u001b[0m│\n",
       "│\u001b[36m \u001b[0m\u001b[36m       test_acc_36       \u001b[0m\u001b[36m \u001b[0m│\u001b[35m \u001b[0m\u001b[35m   0.5980392156862745    \u001b[0m\u001b[35m \u001b[0m│\n",
       "│\u001b[36m \u001b[0m\u001b[36m       test_acc_42       \u001b[0m\u001b[36m \u001b[0m│\u001b[35m \u001b[0m\u001b[35m   0.5980392156862745    \u001b[0m\u001b[35m \u001b[0m│\n",
       "│\u001b[36m \u001b[0m\u001b[36m       test_acc_48       \u001b[0m\u001b[36m \u001b[0m│\u001b[35m \u001b[0m\u001b[35m   0.5980392156862745    \u001b[0m\u001b[35m \u001b[0m│\n",
       "│\u001b[36m \u001b[0m\u001b[36m       test_acc_54       \u001b[0m\u001b[36m \u001b[0m│\u001b[35m \u001b[0m\u001b[35m   0.5980392156862745    \u001b[0m\u001b[35m \u001b[0m│\n",
       "│\u001b[36m \u001b[0m\u001b[36m       test_acc_60       \u001b[0m\u001b[36m \u001b[0m│\u001b[35m \u001b[0m\u001b[35m   0.5980392156862745    \u001b[0m\u001b[35m \u001b[0m│\n",
       "│\u001b[36m \u001b[0m\u001b[36m       test_acc_66       \u001b[0m\u001b[36m \u001b[0m│\u001b[35m \u001b[0m\u001b[35m   0.5980392156862745    \u001b[0m\u001b[35m \u001b[0m│\n",
       "│\u001b[36m \u001b[0m\u001b[36m       test_acc_72       \u001b[0m\u001b[36m \u001b[0m│\u001b[35m \u001b[0m\u001b[35m   0.5980392156862745    \u001b[0m\u001b[35m \u001b[0m│\n",
       "│\u001b[36m \u001b[0m\u001b[36m       test_auc_12       \u001b[0m\u001b[36m \u001b[0m│\u001b[35m \u001b[0m\u001b[35m           0.5           \u001b[0m\u001b[35m \u001b[0m│\n",
       "│\u001b[36m \u001b[0m\u001b[36m       test_auc_18       \u001b[0m\u001b[36m \u001b[0m│\u001b[35m \u001b[0m\u001b[35m           0.5           \u001b[0m\u001b[35m \u001b[0m│\n",
       "│\u001b[36m \u001b[0m\u001b[36m       test_auc_24       \u001b[0m\u001b[36m \u001b[0m│\u001b[35m \u001b[0m\u001b[35m           0.5           \u001b[0m\u001b[35m \u001b[0m│\n",
       "│\u001b[36m \u001b[0m\u001b[36m       test_auc_30       \u001b[0m\u001b[36m \u001b[0m│\u001b[35m \u001b[0m\u001b[35m           0.5           \u001b[0m\u001b[35m \u001b[0m│\n",
       "│\u001b[36m \u001b[0m\u001b[36m       test_auc_36       \u001b[0m\u001b[36m \u001b[0m│\u001b[35m \u001b[0m\u001b[35m           0.5           \u001b[0m\u001b[35m \u001b[0m│\n",
       "│\u001b[36m \u001b[0m\u001b[36m       test_auc_42       \u001b[0m\u001b[36m \u001b[0m│\u001b[35m \u001b[0m\u001b[35m           0.5           \u001b[0m\u001b[35m \u001b[0m│\n",
       "│\u001b[36m \u001b[0m\u001b[36m       test_auc_48       \u001b[0m\u001b[36m \u001b[0m│\u001b[35m \u001b[0m\u001b[35m           0.5           \u001b[0m\u001b[35m \u001b[0m│\n",
       "│\u001b[36m \u001b[0m\u001b[36m       test_auc_54       \u001b[0m\u001b[36m \u001b[0m│\u001b[35m \u001b[0m\u001b[35m           0.5           \u001b[0m\u001b[35m \u001b[0m│\n",
       "│\u001b[36m \u001b[0m\u001b[36m       test_auc_60       \u001b[0m\u001b[36m \u001b[0m│\u001b[35m \u001b[0m\u001b[35m           0.5           \u001b[0m\u001b[35m \u001b[0m│\n",
       "│\u001b[36m \u001b[0m\u001b[36m       test_auc_66       \u001b[0m\u001b[36m \u001b[0m│\u001b[35m \u001b[0m\u001b[35m           0.5           \u001b[0m\u001b[35m \u001b[0m│\n",
       "│\u001b[36m \u001b[0m\u001b[36m       test_auc_72       \u001b[0m\u001b[36m \u001b[0m│\u001b[35m \u001b[0m\u001b[35m           0.5           \u001b[0m\u001b[35m \u001b[0m│\n",
       "│\u001b[36m \u001b[0m\u001b[36m       test_f1_12        \u001b[0m\u001b[36m \u001b[0m│\u001b[35m \u001b[0m\u001b[35m   0.7484662532806396    \u001b[0m\u001b[35m \u001b[0m│\n",
       "│\u001b[36m \u001b[0m\u001b[36m       test_f1_18        \u001b[0m\u001b[36m \u001b[0m│\u001b[35m \u001b[0m\u001b[35m   0.7484662532806396    \u001b[0m\u001b[35m \u001b[0m│\n",
       "│\u001b[36m \u001b[0m\u001b[36m       test_f1_24        \u001b[0m\u001b[36m \u001b[0m│\u001b[35m \u001b[0m\u001b[35m   0.7484662532806396    \u001b[0m\u001b[35m \u001b[0m│\n",
       "│\u001b[36m \u001b[0m\u001b[36m       test_f1_30        \u001b[0m\u001b[36m \u001b[0m│\u001b[35m \u001b[0m\u001b[35m   0.7484662532806396    \u001b[0m\u001b[35m \u001b[0m│\n",
       "│\u001b[36m \u001b[0m\u001b[36m       test_f1_36        \u001b[0m\u001b[36m \u001b[0m│\u001b[35m \u001b[0m\u001b[35m   0.7484662532806396    \u001b[0m\u001b[35m \u001b[0m│\n",
       "│\u001b[36m \u001b[0m\u001b[36m       test_f1_42        \u001b[0m\u001b[36m \u001b[0m│\u001b[35m \u001b[0m\u001b[35m   0.7484662532806396    \u001b[0m\u001b[35m \u001b[0m│\n",
       "│\u001b[36m \u001b[0m\u001b[36m       test_f1_48        \u001b[0m\u001b[36m \u001b[0m│\u001b[35m \u001b[0m\u001b[35m   0.7484662532806396    \u001b[0m\u001b[35m \u001b[0m│\n",
       "│\u001b[36m \u001b[0m\u001b[36m       test_f1_54        \u001b[0m\u001b[36m \u001b[0m│\u001b[35m \u001b[0m\u001b[35m   0.7484662532806396    \u001b[0m\u001b[35m \u001b[0m│\n",
       "│\u001b[36m \u001b[0m\u001b[36m       test_f1_60        \u001b[0m\u001b[36m \u001b[0m│\u001b[35m \u001b[0m\u001b[35m   0.7484662532806396    \u001b[0m\u001b[35m \u001b[0m│\n",
       "│\u001b[36m \u001b[0m\u001b[36m       test_f1_66        \u001b[0m\u001b[36m \u001b[0m│\u001b[35m \u001b[0m\u001b[35m   0.7484662532806396    \u001b[0m\u001b[35m \u001b[0m│\n",
       "│\u001b[36m \u001b[0m\u001b[36m       test_f1_72        \u001b[0m\u001b[36m \u001b[0m│\u001b[35m \u001b[0m\u001b[35m   0.7484662532806396    \u001b[0m\u001b[35m \u001b[0m│\n",
       "└───────────────────────────┴───────────────────────────┘\n"
      ]
     },
     "metadata": {},
     "output_type": "display_data"
    },
    {
     "data": {
      "text/plain": [
       "[{'test_acc_12': 0.5980392156862745,\n",
       "  'test_auc_12': 0.5,\n",
       "  'test_f1_12': 0.7484662532806396,\n",
       "  'test_acc_18': 0.5980392156862745,\n",
       "  'test_auc_18': 0.5,\n",
       "  'test_f1_18': 0.7484662532806396,\n",
       "  'test_acc_24': 0.5980392156862745,\n",
       "  'test_auc_24': 0.5,\n",
       "  'test_f1_24': 0.7484662532806396,\n",
       "  'test_acc_30': 0.5980392156862745,\n",
       "  'test_auc_30': 0.5,\n",
       "  'test_f1_30': 0.7484662532806396,\n",
       "  'test_acc_36': 0.5980392156862745,\n",
       "  'test_auc_36': 0.5,\n",
       "  'test_f1_36': 0.7484662532806396,\n",
       "  'test_acc_42': 0.5980392156862745,\n",
       "  'test_auc_42': 0.5,\n",
       "  'test_f1_42': 0.7484662532806396,\n",
       "  'test_acc_48': 0.5980392156862745,\n",
       "  'test_auc_48': 0.5,\n",
       "  'test_f1_48': 0.7484662532806396,\n",
       "  'test_acc_54': 0.5980392156862745,\n",
       "  'test_auc_54': 0.5,\n",
       "  'test_f1_54': 0.7484662532806396,\n",
       "  'test_acc_60': 0.5980392156862745,\n",
       "  'test_auc_60': 0.5,\n",
       "  'test_f1_60': 0.7484662532806396,\n",
       "  'test_acc_66': 0.5980392156862745,\n",
       "  'test_auc_66': 0.5,\n",
       "  'test_f1_66': 0.7484662532806396,\n",
       "  'test_acc_72': 0.5980392156862745,\n",
       "  'test_auc_72': 0.5,\n",
       "  'test_f1_72': 0.7484662532806396}]"
      ]
     },
     "execution_count": 10,
     "metadata": {},
     "output_type": "execute_result"
    }
   ],
   "source": [
    "trainer.test(model, data_module)"
   ]
  },
  {
   "cell_type": "code",
   "execution_count": null,
   "metadata": {},
   "outputs": [],
   "source": []
  }
 ],
 "metadata": {
  "kernelspec": {
   "display_name": "icare",
   "language": "python",
   "name": "python3"
  },
  "language_info": {
   "codemirror_mode": {
    "name": "ipython",
    "version": 3
   },
   "file_extension": ".py",
   "mimetype": "text/x-python",
   "name": "python",
   "nbconvert_exporter": "python",
   "pygments_lexer": "ipython3",
   "version": "3.11.4"
  },
  "orig_nbformat": 4
 },
 "nbformat": 4,
 "nbformat_minor": 2
}
