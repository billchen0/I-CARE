{
 "cells": [
  {
   "cell_type": "code",
   "execution_count": 6,
   "metadata": {},
   "outputs": [
    {
     "name": "stdout",
     "output_type": "stream",
     "text": [
      "The autoreload extension is already loaded. To reload it, use:\n",
      "  %reload_ext autoreload\n"
     ]
    }
   ],
   "source": [
    "%load_ext autoreload\n",
    "%autoreload 2\n",
    "from pathlib import Path\n",
    "import numpy as np\n",
    "import seaborn as sns\n",
    "import sys\n",
    "sys.path.append(\"..\")\n",
    "from util import get_segments_by_hour, pad_sequence"
   ]
  },
  {
   "cell_type": "code",
   "execution_count": 3,
   "metadata": {},
   "outputs": [],
   "source": [
    "path_to_data = Path(\"/media/hdd1/i-care/features\")"
   ]
  },
  {
   "cell_type": "code",
   "execution_count": 4,
   "metadata": {},
   "outputs": [
    {
     "name": "stdout",
     "output_type": "stream",
     "text": [
      "Removed 36 patients due to limited EEG recordings.\n"
     ]
    }
   ],
   "source": [
    "removed_patient = []\n",
    "dataset = []\n",
    "for patient in path_to_data.iterdir():\n",
    "    feature_files = get_segments_by_hour(patient, start_hour=0, end_hour=96)\n",
    "    # Only keep patient data if there are more than 12 hours of recording\n",
    "    if len(feature_files) < 12:\n",
    "        removed_patient.append(patient.name)\n",
    "    else:\n",
    "        features_list = []\n",
    "        for feature_file in feature_files:\n",
    "            # Load in the features \n",
    "            feature = np.load(feature_file)\n",
    "            features_list.append(feature)\n",
    "        features = np.concatenate(features_list, axis=1)\n",
    "        dataset.append(features)\n",
    "\n",
    "print(f\"Removed {len(removed_patient)} patients due to limited EEG recordings.\")"
   ]
  },
  {
   "cell_type": "code",
   "execution_count": 11,
   "metadata": {},
   "outputs": [],
   "source": [
    "padded_dataset = np.stack(pad_sequence(dataset))"
   ]
  },
  {
   "cell_type": "code",
   "execution_count": 12,
   "metadata": {},
   "outputs": [
    {
     "data": {
      "text/plain": [
       "(571, 8, 1184)"
      ]
     },
     "execution_count": 12,
     "metadata": {},
     "output_type": "execute_result"
    }
   ],
   "source": [
    "padded_dataset.shape"
   ]
  },
  {
   "cell_type": "code",
   "execution_count": null,
   "metadata": {},
   "outputs": [],
   "source": []
  }
 ],
 "metadata": {
  "kernelspec": {
   "display_name": "icare",
   "language": "python",
   "name": "python3"
  },
  "language_info": {
   "codemirror_mode": {
    "name": "ipython",
    "version": 3
   },
   "file_extension": ".py",
   "mimetype": "text/x-python",
   "name": "python",
   "nbconvert_exporter": "python",
   "pygments_lexer": "ipython3",
   "version": "3.11.4"
  },
  "orig_nbformat": 4
 },
 "nbformat": 4,
 "nbformat_minor": 2
}
