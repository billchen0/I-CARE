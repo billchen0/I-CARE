{
 "cells": [
  {
   "cell_type": "code",
   "execution_count": 16,
   "metadata": {},
   "outputs": [
    {
     "name": "stdout",
     "output_type": "stream",
     "text": [
      "The autoreload extension is already loaded. To reload it, use:\n",
      "  %reload_ext autoreload\n"
     ]
    }
   ],
   "source": [
    "%load_ext autoreload\n",
    "%autoreload 2\n",
    "from pathlib import Path\n",
    "import numpy as np\n",
    "import seaborn as sns\n",
    "import sys\n",
    "sys.path.append(\"..\")\n",
    "from util import get_segments_by_hour"
   ]
  },
  {
   "cell_type": "code",
   "execution_count": 17,
   "metadata": {},
   "outputs": [],
   "source": [
    "path_to_data = Path(\"/media/hdd1/i-care/features\")"
   ]
  },
  {
   "cell_type": "code",
   "execution_count": 42,
   "metadata": {},
   "outputs": [
    {
     "data": {
      "text/plain": [
       "[PosixPath('/media/hdd1/i-care/features/0929/0929_010_012_features.npy'),\n",
       " PosixPath('/media/hdd1/i-care/features/0929/0929_011_013_features.npy'),\n",
       " PosixPath('/media/hdd1/i-care/features/0929/0929_012_014_features.npy'),\n",
       " PosixPath('/media/hdd1/i-care/features/0929/0929_013_015_features.npy'),\n",
       " PosixPath('/media/hdd1/i-care/features/0929/0929_014_016_features.npy'),\n",
       " PosixPath('/media/hdd1/i-care/features/0929/0929_015_017_features.npy'),\n",
       " PosixPath('/media/hdd1/i-care/features/0929/0929_016_018_features.npy'),\n",
       " PosixPath('/media/hdd1/i-care/features/0929/0929_017_019_features.npy'),\n",
       " PosixPath('/media/hdd1/i-care/features/0929/0929_018_020_features.npy'),\n",
       " PosixPath('/media/hdd1/i-care/features/0929/0929_019_021_features.npy'),\n",
       " PosixPath('/media/hdd1/i-care/features/0929/0929_020_022_features.npy'),\n",
       " PosixPath('/media/hdd1/i-care/features/0929/0929_021_023_features.npy'),\n",
       " PosixPath('/media/hdd1/i-care/features/0929/0929_022_024_features.npy'),\n",
       " PosixPath('/media/hdd1/i-care/features/0929/0929_023_024_features.npy'),\n",
       " PosixPath('/media/hdd1/i-care/features/0929/0929_024_025_features.npy'),\n",
       " PosixPath('/media/hdd1/i-care/features/0929/0929_025_026_features.npy'),\n",
       " PosixPath('/media/hdd1/i-care/features/0929/0929_026_027_features.npy'),\n",
       " PosixPath('/media/hdd1/i-care/features/0929/0929_027_028_features.npy'),\n",
       " PosixPath('/media/hdd1/i-care/features/0929/0929_028_029_features.npy'),\n",
       " PosixPath('/media/hdd1/i-care/features/0929/0929_029_030_features.npy'),\n",
       " PosixPath('/media/hdd1/i-care/features/0929/0929_030_031_features.npy'),\n",
       " PosixPath('/media/hdd1/i-care/features/0929/0929_031_032_features.npy'),\n",
       " PosixPath('/media/hdd1/i-care/features/0929/0929_032_033_features.npy'),\n",
       " PosixPath('/media/hdd1/i-care/features/0929/0929_033_034_features.npy'),\n",
       " PosixPath('/media/hdd1/i-care/features/0929/0929_034_035_features.npy'),\n",
       " PosixPath('/media/hdd1/i-care/features/0929/0929_035_036_features.npy'),\n",
       " PosixPath('/media/hdd1/i-care/features/0929/0929_036_037_features.npy'),\n",
       " PosixPath('/media/hdd1/i-care/features/0929/0929_037_038_features.npy'),\n",
       " PosixPath('/media/hdd1/i-care/features/0929/0929_038_039_features.npy'),\n",
       " PosixPath('/media/hdd1/i-care/features/0929/0929_039_040_features.npy'),\n",
       " PosixPath('/media/hdd1/i-care/features/0929/0929_040_041_features.npy'),\n",
       " PosixPath('/media/hdd1/i-care/features/0929/0929_041_042_features.npy'),\n",
       " PosixPath('/media/hdd1/i-care/features/0929/0929_042_043_features.npy'),\n",
       " PosixPath('/media/hdd1/i-care/features/0929/0929_043_044_features.npy'),\n",
       " PosixPath('/media/hdd1/i-care/features/0929/0929_044_045_features.npy'),\n",
       " PosixPath('/media/hdd1/i-care/features/0929/0929_045_046_features.npy'),\n",
       " PosixPath('/media/hdd1/i-care/features/0929/0929_046_047_features.npy'),\n",
       " PosixPath('/media/hdd1/i-care/features/0929/0929_047_047_features.npy'),\n",
       " PosixPath('/media/hdd1/i-care/features/0929/0929_048_048_features.npy'),\n",
       " PosixPath('/media/hdd1/i-care/features/0929/0929_049_049_features.npy'),\n",
       " PosixPath('/media/hdd1/i-care/features/0929/0929_050_050_features.npy'),\n",
       " PosixPath('/media/hdd1/i-care/features/0929/0929_051_051_features.npy'),\n",
       " PosixPath('/media/hdd1/i-care/features/0929/0929_052_052_features.npy'),\n",
       " PosixPath('/media/hdd1/i-care/features/0929/0929_053_053_features.npy'),\n",
       " PosixPath('/media/hdd1/i-care/features/0929/0929_054_054_features.npy'),\n",
       " PosixPath('/media/hdd1/i-care/features/0929/0929_055_055_features.npy'),\n",
       " PosixPath('/media/hdd1/i-care/features/0929/0929_056_056_features.npy'),\n",
       " PosixPath('/media/hdd1/i-care/features/0929/0929_057_057_features.npy'),\n",
       " PosixPath('/media/hdd1/i-care/features/0929/0929_058_058_features.npy'),\n",
       " PosixPath('/media/hdd1/i-care/features/0929/0929_059_059_features.npy'),\n",
       " PosixPath('/media/hdd1/i-care/features/0929/0929_060_060_features.npy'),\n",
       " PosixPath('/media/hdd1/i-care/features/0929/0929_061_061_features.npy'),\n",
       " PosixPath('/media/hdd1/i-care/features/0929/0929_062_062_features.npy'),\n",
       " PosixPath('/media/hdd1/i-care/features/0929/0929_063_063_features.npy'),\n",
       " PosixPath('/media/hdd1/i-care/features/0929/0929_064_064_features.npy'),\n",
       " PosixPath('/media/hdd1/i-care/features/0929/0929_065_065_features.npy'),\n",
       " PosixPath('/media/hdd1/i-care/features/0929/0929_066_066_features.npy'),\n",
       " PosixPath('/media/hdd1/i-care/features/0929/0929_067_067_features.npy'),\n",
       " PosixPath('/media/hdd1/i-care/features/0929/0929_068_068_features.npy'),\n",
       " PosixPath('/media/hdd1/i-care/features/0929/0929_069_069_features.npy')]"
      ]
     },
     "execution_count": 42,
     "metadata": {},
     "output_type": "execute_result"
    }
   ],
   "source": [
    "get_segments_by_hour(path_to_data, \"0929\", start=12, end=96)"
   ]
  },
  {
   "cell_type": "code",
   "execution_count": 18,
   "metadata": {},
   "outputs": [],
   "source": [
    "# Load in feature numpy data and concatenate them to create time series\n",
    "path_to_data = Path(\"/media/hdd1/i-care/features/\")\n",
    "\n",
    "lengths = {}\n",
    "for patient in path_to_data.iterdir():\n",
    "    features = np.load(patient / \"manual-features.npy\")\n",
    "    lengths[f\"{patient.name}\"] = features.shape[1]"
   ]
  },
  {
   "cell_type": "code",
   "execution_count": 23,
   "metadata": {},
   "outputs": [
    {
     "data": {
      "text/plain": [
       "'0854'"
      ]
     },
     "execution_count": 23,
     "metadata": {},
     "output_type": "execute_result"
    }
   ],
   "source": [
    "min(lengths, key=lambda k: lengths[k])"
   ]
  },
  {
   "cell_type": "code",
   "execution_count": 29,
   "metadata": {},
   "outputs": [
    {
     "data": {
      "text/plain": [
       "<Axes: ylabel='Count'>"
      ]
     },
     "execution_count": 29,
     "metadata": {},
     "output_type": "execute_result"
    },
    {
     "data": {
      "image/png": "[encoded data removed]",
      "text/plain": [
       "<Figure size 640x480 with 1 Axes>"
      ]
     },
     "metadata": {},
     "output_type": "display_data"
    }
   ],
   "source": [
    "sns.histplot(lengths.values(), bins=100)"
   ]
  },
  {
   "cell_type": "code",
   "execution_count": 31,
   "metadata": {},
   "outputs": [
    {
     "data": {
      "text/plain": [
       "1152.0"
      ]
     },
     "execution_count": 31,
     "metadata": {},
     "output_type": "execute_result"
    }
   ],
   "source": [
    "96 * 60 / 5"
   ]
  },
  {
   "cell_type": "code",
   "execution_count": null,
   "metadata": {},
   "outputs": [],
   "source": []
  }
 ],
 "metadata": {
  "kernelspec": {
   "display_name": "icare",
   "language": "python",
   "name": "python3"
  },
  "language_info": {
   "codemirror_mode": {
    "name": "ipython",
    "version": 3
   },
   "file_extension": ".py",
   "mimetype": "text/x-python",
   "name": "python",
   "nbconvert_exporter": "python",
   "pygments_lexer": "ipython3",
   "version": "3.11.4"
  },
  "orig_nbformat": 4
 },
 "nbformat": 4,
 "nbformat_minor": 2
}
