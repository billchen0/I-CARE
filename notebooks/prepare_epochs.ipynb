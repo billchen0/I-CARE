{
 "cells": [
  {
   "cell_type": "code",
   "execution_count": 1,
   "metadata": {},
   "outputs": [],
   "source": [
    "from pathlib import Path\n",
    "import numpy as np"
   ]
  },
  {
   "cell_type": "code",
   "execution_count": 2,
   "metadata": {},
   "outputs": [],
   "source": [
    "path_to_data = Path(\"/media/nvme1/icare-data/features\")\n",
    "path_to_patient = path_to_data / \"0484\""
   ]
  },
  {
   "cell_type": "code",
   "execution_count": 8,
   "metadata": {},
   "outputs": [],
   "source": [
    "def get_unique_hour_files(path):\n",
    "    all_files = sorted(list(path.iterdir()))\n",
    "    seen_hours = set()\n",
    "    unique_hour_files = []\n",
    "    for file in all_files:\n",
    "        hour = file.stem.split(\"_\")[2]\n",
    "        if hour not in seen_hours:\n",
    "            unique_hour_files.append(file)\n",
    "            seen_hours.add(hour)\n",
    "        \n",
    "    return unique_hour_files"
   ]
  },
  {
   "cell_type": "code",
   "execution_count": 15,
   "metadata": {},
   "outputs": [],
   "source": [
    "files = get_unique_hour_files(path_to_patient)\n",
    "hours = [int(f.stem.split(\"_\")[2]) for f in files]\n",
    "\n",
    "# Group the hours list with selected 6 hour epochs\n",
    "def segment_hours_into_epochs(hour_list):\n",
    "    # Initialize a list of 12 epochs with None\n",
    "    epochs = [None] * 12\n",
    "    \n",
    "    start_idx = None\n",
    "    current_epoch = None\n",
    "\n",
    "    for idx, hour in enumerate(hour_list):\n",
    "        # Determine which epoch the hour belongs to\n",
    "        epoch_idx = hour // 6\n",
    "\n",
    "        # If we're starting a new epoch or at the beginning of the list\n",
    "        if current_epoch is None or current_epoch != epoch_idx:\n",
    "            # If we have a starting index, this means we just finished an epoch\n",
    "            if start_idx is not None:\n",
    "                epochs[current_epoch] = (start_idx, idx - 1)\n",
    "            start_idx = idx\n",
    "            current_epoch = epoch_idx\n",
    "\n",
    "    # Handle the case for the last hour in the list\n",
    "    if start_idx is not None:\n",
    "        epochs[current_epoch] = (start_idx, len(hour_list) - 1)\n",
    "    \n",
    "    return epochs\n",
    "\n",
    "epoch_idx = segment_hours_into_epochs(hours)"
   ]
  },
  {
   "cell_type": "code",
   "execution_count": 16,
   "metadata": {},
   "outputs": [],
   "source": [
    "def combine_arrays(arr_list):\n",
    "    # Initialize the result array with nan values\n",
    "    combined_arr = np.full((8, 72), np.nan)\n",
    "    # Calculate the position to start inserting arrays\n",
    "    start_col = 72 - (len(arr_list) * 12)\n",
    "    \n",
    "    for arr in arr_list:\n",
    "        if arr.shape[1] < 12:\n",
    "            padding_cols = 12 - arr.shape[1]\n",
    "            arr = np.hstack([arr, np.full((8, padding_cols), np.nan)])\n",
    "        \n",
    "        # Insert into the combined array\n",
    "        combined_arr[:, start_col:start_col+12] = arr\n",
    "        start_col += 12\n",
    "    \n",
    "    return combined_arr"
   ]
  },
  {
   "cell_type": "code",
   "execution_count": 21,
   "metadata": {},
   "outputs": [],
   "source": [
    "all_epoch_features = []\n",
    "for epoch in epoch_idx:\n",
    "    if epoch is not None:\n",
    "        feature_files = files[epoch[0]:epoch[1]+1]\n",
    "        features = []\n",
    "        for feat_file in feature_files:\n",
    "            feat = np.load(feat_file)\n",
    "            features.append(feat)\n",
    "    combined_features = combine_arrays(features)\n",
    "    all_epoch_features.append(features)"
   ]
  },
  {
   "cell_type": "code",
   "execution_count": 20,
   "metadata": {},
   "outputs": [
    {
     "data": {
      "text/plain": [
       "12"
      ]
     },
     "execution_count": 20,
     "metadata": {},
     "output_type": "execute_result"
    }
   ],
   "source": [
    "len(all_epoch_features)"
   ]
  },
  {
   "cell_type": "code",
   "execution_count": null,
   "metadata": {},
   "outputs": [],
   "source": []
  }
 ],
 "metadata": {
  "kernelspec": {
   "display_name": "icare",
   "language": "python",
   "name": "python3"
  },
  "language_info": {
   "codemirror_mode": {
    "name": "ipython",
    "version": 3
   },
   "file_extension": ".py",
   "mimetype": "text/x-python",
   "name": "python",
   "nbconvert_exporter": "python",
   "pygments_lexer": "ipython3",
   "version": "3.11.4"
  },
  "orig_nbformat": 4
 },
 "nbformat": 4,
 "nbformat_minor": 2
}
