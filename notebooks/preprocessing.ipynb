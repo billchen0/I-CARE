{
 "cells": [
  {
   "cell_type": "code",
   "execution_count": 8,
   "metadata": {},
   "outputs": [],
   "source": [
    "%reload_ext autoreload\n",
    "%autoreload 2\n",
    "from pathlib import Path\n",
    "import wfdb\n",
    "import sys\n",
    "sys.path.append(\"..\")\n",
    "\n",
    "from util import list_patient_id\n",
    "from preprocessing import match_channels"
   ]
  },
  {
   "cell_type": "code",
   "execution_count": 3,
   "metadata": {},
   "outputs": [],
   "source": [
    "path_to_data = Path(\"/media/hdd1/i-care/training\")"
   ]
  },
  {
   "cell_type": "code",
   "execution_count": 4,
   "metadata": {},
   "outputs": [],
   "source": [
    "# For each patient load in EEG segment\n",
    "for p in list_patient_id(path_to_data)[:1]:\n",
    "    # Load in each segment of EEG from patient\n",
    "    eeg_path = path_to_data / p\n",
    "    for eeg_segment in sorted(set([seg.parent / seg.stem for seg in eeg_path.glob(\"*EEG.mat\")]))[:1]:\n",
    "        # Read in EEG segment, separating the signal and the channels\n",
    "        eeg_record = wfdb.io.rdrecord(eeg_segment)\n",
    "        eeg_signal = eeg_record.p_signal\n",
    "        eeg_channels = eeg_record.sig_name\n",
    "        # Remove excess channels and reorder the channels to a standardized order\n",
    "        match_channels(eeg_signal, eeg_channels)"
   ]
  },
  {
   "cell_type": "code",
   "execution_count": 6,
   "metadata": {},
   "outputs": [
    {
     "data": {
      "text/plain": [
       "(1285000, 19)"
      ]
     },
     "execution_count": 6,
     "metadata": {},
     "output_type": "execute_result"
    }
   ],
   "source": [
    "eeg_signal.shape"
   ]
  },
  {
   "cell_type": "code",
   "execution_count": 11,
   "metadata": {},
   "outputs": [
    {
     "data": {
      "text/plain": [
       "['Fp1',\n",
       " 'Fp2',\n",
       " 'F3',\n",
       " 'F4',\n",
       " 'C3',\n",
       " 'C4',\n",
       " 'P3',\n",
       " 'P4',\n",
       " 'O1',\n",
       " 'O2',\n",
       " 'F7',\n",
       " 'F8',\n",
       " 'T3',\n",
       " 'T4',\n",
       " 'T5',\n",
       " 'T6',\n",
       " 'Fz',\n",
       " 'Cz',\n",
       " 'Pz']"
      ]
     },
     "execution_count": 11,
     "metadata": {},
     "output_type": "execute_result"
    }
   ],
   "source": [
    "eeg_record.sig_name"
   ]
  },
  {
   "cell_type": "code",
   "execution_count": null,
   "metadata": {},
   "outputs": [],
   "source": []
  }
 ],
 "metadata": {
  "kernelspec": {
   "display_name": "icare",
   "language": "python",
   "name": "python3"
  },
  "language_info": {
   "codemirror_mode": {
    "name": "ipython",
    "version": 3
   },
   "file_extension": ".py",
   "mimetype": "text/x-python",
   "name": "python",
   "nbconvert_exporter": "python",
   "pygments_lexer": "ipython3",
   "version": "3.11.4"
  },
  "orig_nbformat": 4
 },
 "nbformat": 4,
 "nbformat_minor": 2
}
