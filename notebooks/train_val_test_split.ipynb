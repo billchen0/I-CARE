{
 "cells": [
  {
   "cell_type": "code",
   "execution_count": 10,
   "metadata": {},
   "outputs": [],
   "source": [
    "from pathlib import Path\n",
    "import random\n",
    "path_to_ids = Path(\"/media/nvme1/icare-data/6h-features\")"
   ]
  },
  {
   "cell_type": "code",
   "execution_count": 11,
   "metadata": {},
   "outputs": [
    {
     "data": {
      "text/plain": [
       "(357, 51, 102)"
      ]
     },
     "execution_count": 11,
     "metadata": {},
     "output_type": "execute_result"
    }
   ],
   "source": [
    "all_patient_ids = [pid.name for pid in path_to_ids.iterdir()]\n",
    "\n",
    "# shuffle patient ids\n",
    "random.shuffle(all_patient_ids)\n",
    "total_count = len(all_patient_ids)\n",
    "train_end = int(total_count * 0.7)\n",
    "val_end = train_end + int(total_count * 0.1)\n",
    "\n",
    "train_ids = all_patient_ids[:train_end]\n",
    "val_ids = all_patient_ids[train_end:val_end]\n",
    "test_ids = all_patient_ids[val_end:]\n",
    "\n",
    "len(train_ids), len(val_ids), len(test_ids)"
   ]
  },
  {
   "cell_type": "code",
   "execution_count": 13,
   "metadata": {},
   "outputs": [],
   "source": [
    "def save_to_files(save_path, filename, ids_list):\n",
    "    with open(save_path / filename, \"w\") as f:\n",
    "        for patient_id in ids_list:\n",
    "            f.write(f\"{patient_id}\\n\")"
   ]
  },
  {
   "cell_type": "code",
   "execution_count": 14,
   "metadata": {},
   "outputs": [],
   "source": [
    "save_path = Path(\"/home/bc299/icare/artifacts/\")\n",
    "save_to_files(save_path, \"train_ids.txt\", train_ids)\n",
    "save_to_files(save_path, \"val_ids.txt\", val_ids)\n",
    "save_to_files(save_path, \"test_ids.txt\", test_ids)"
   ]
  }
 ],
 "metadata": {
  "kernelspec": {
   "display_name": "icare",
   "language": "python",
   "name": "python3"
  },
  "language_info": {
   "codemirror_mode": {
    "name": "ipython",
    "version": 3
   },
   "file_extension": ".py",
   "mimetype": "text/x-python",
   "name": "python",
   "nbconvert_exporter": "python",
   "pygments_lexer": "ipython3",
   "version": "3.11.4"
  },
  "orig_nbformat": 4
 },
 "nbformat": 4,
 "nbformat_minor": 2
}
